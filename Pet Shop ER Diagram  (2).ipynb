{
 "cells": [
  {
   "cell_type": "markdown",
   "metadata": {},
   "source": [
    "Entities -\n",
    "We have categorized our Pet Shop into 6 different entities: customers, fish, pets, pet purchases, food, and product \n",
    "purchases. "
   ]
  },
  {
   "cell_type": "markdown",
   "metadata": {},
   "source": [
    "Attributes - \n",
    "We defined each of our 6 entities by using 3 attributes for each. One specific attribute came up in a couple of \n",
    "our entities...food identification. We defined food identification as a foreign key because although it was a \n",
    "primary key for one entity (food), it was also a defining attribute for other entities (such as pets and fish). \n",
    "The attributes we used to describe each entity will better help us organize the data we gather and reference it\n",
    "in order to update inventory. "
   ]
  },
  {
   "cell_type": "markdown",
   "metadata": {},
   "source": [
    "Relationships -\n",
    "The 6 different entities in our store all interact with each other through different types of relationships. \n",
    "Customer and purchases are connected through a 1:M relationship because a customer is most likely purchasing \n",
    "more than one product at a time. Fish and food are connected by a 1:M relationship as well because one fish may be fed\n",
    "many different types of fish food. This same relationship is seen for the same reason between pets and food. A \n",
    "customer also is involved in a 1:M relationship with animal purchases because an individual has the freedom to buy as \n",
    "many animals as they desire when they enter our store. In addition, a customer and food have a 1:M relationship as well\n",
    "because a single customer may be buying many different types of pet/fish food to see which their animal likes the best.\n",
    "On the other hand, fish and animal purchases is a 1:1 relationship because each fish is its own separate transaction and \n",
    "has its own unique identification number. The same can be said for the relationship between pets and animal purchases. \n"
   ]
  },
  {
   "cell_type": "markdown",
   "metadata": {},
   "source": [
    "![PET SHOP ER DIAGRAM](https://github.com/rachelwasserman/Group-Pet-Shop-Assignment/blob/master/PetShopERDiagram-3.png?raw=true)"
   ]
  },
  {
   "cell_type": "code",
   "execution_count": null,
   "metadata": {},
   "outputs": [],
   "source": []
  }
 ],
 "metadata": {
  "kernelspec": {
   "display_name": "Python 3",
   "language": "python",
   "name": "python3"
  },
  "language_info": {
   "codemirror_mode": {
    "name": "ipython",
    "version": 3
   },
   "file_extension": ".py",
   "mimetype": "text/x-python",
   "name": "python",
   "nbconvert_exporter": "python",
   "pygments_lexer": "ipython3",
   "version": "3.7.3"
  }
 },
 "nbformat": 4,
 "nbformat_minor": 2
}
